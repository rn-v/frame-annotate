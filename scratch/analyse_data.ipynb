{
 "cells": [
  {
   "cell_type": "code",
   "execution_count": 1,
   "metadata": {},
   "outputs": [],
   "source": [
    "import pandas as pd\n",
    "import os"
   ]
  },
  {
   "cell_type": "markdown",
   "metadata": {},
   "source": [
    "### Load data from csv file"
   ]
  },
  {
   "cell_type": "code",
   "execution_count": 3,
   "metadata": {},
   "outputs": [],
   "source": [
    "csv_file_100 = \"../data/sample_100.csv\"\n",
    "df_100 = pd.read_csv(csv_file_100)\n",
    "\n",
    "id_list = df_100[\"id\"].tolist()\n",
    "title_list = df_100[\"title\"].tolist()\n",
    "maintext_list = df_100[\"maintext\"].tolist()"
   ]
  },
  {
   "cell_type": "markdown",
   "metadata": {},
   "source": [
    "### Check if images exist in the path"
   ]
  },
  {
   "cell_type": "code",
   "execution_count": 7,
   "metadata": {},
   "outputs": [
    {
     "name": "stdout",
     "output_type": "stream",
     "text": [
      "All 100 images exist.\n"
     ]
    }
   ],
   "source": [
    "non_existent_images = []\n",
    "existent_images = []\n",
    "for img_id in id_list:\n",
    "    img_path = \"../data/images/\" + str(img_id) + \".jpg\"\n",
    "    if not os.path.exists(img_path):\n",
    "        non_existent_images.append(img_path)\n",
    "    else:\n",
    "        existent_images.append(img_path)\n",
    "\n",
    "if non_existent_images:\n",
    "    print(\"The following images do not exist:\")\n",
    "    for img in non_existent_images:\n",
    "        print(img)\n",
    "else:\n",
    "    print(f\"All {len(id_list)} images exist.\")"
   ]
  },
  {
   "cell_type": "code",
   "execution_count": null,
   "metadata": {},
   "outputs": [],
   "source": []
  }
 ],
 "metadata": {
  "kernelspec": {
   "display_name": ".venv",
   "language": "python",
   "name": "python3"
  },
  "language_info": {
   "codemirror_mode": {
    "name": "ipython",
    "version": 3
   },
   "file_extension": ".py",
   "mimetype": "text/x-python",
   "name": "python",
   "nbconvert_exporter": "python",
   "pygments_lexer": "ipython3",
   "version": "3.11.4"
  }
 },
 "nbformat": 4,
 "nbformat_minor": 2
}
