{
 "cells": [
  {
   "cell_type": "markdown",
   "metadata": {},
   "source": [
    "#### *Before annotation, kindly read the Annotation Guidelines present in `Framing Codebook.pdf`*"
   ]
  },
  {
   "cell_type": "code",
   "execution_count": 11,
   "metadata": {},
   "outputs": [],
   "source": [
    "# Decide set\n",
    "annotator_set = int(input(\"Which annotator set was assigned to you? [1-6]: \"))\n",
    "print(\"You chose set\", annotator_set)"
   ]
  },
  {
   "cell_type": "markdown",
   "metadata": {},
   "source": [
    "## Setup"
   ]
  },
  {
   "cell_type": "code",
   "execution_count": 12,
   "metadata": {},
   "outputs": [
    {
     "name": "stdout",
     "output_type": "stream",
     "text": [
      "/Users/srishtiy/dev/frame-annotate/.venv/bin/python\n"
     ]
    }
   ],
   "source": [
    "# Make sure this prints your-directory/frame-annotate/.venv/bin/python\n",
    "!which python"
   ]
  },
  {
   "cell_type": "code",
   "execution_count": 13,
   "metadata": {},
   "outputs": [],
   "source": [
    "import pandas as pd\n",
    "import pigeonXT as pixt\n",
    "from pathlib import Path\n",
    "from IPython.display import display, Image, HTML\n",
    "import re"
   ]
  },
  {
   "cell_type": "code",
   "execution_count": 16,
   "metadata": {},
   "outputs": [],
   "source": [
    "data_path = Path('./data/sample_no_sports.csv', index_col=[0])\n",
    "data = pd.read_csv(data_path)\n",
    "i = annotator_set\n",
    "data_range = range((i-1)*300,i*300)\n",
    "title_list = data.loc[data_range, 'title'].tolist()\n",
    "article_list = data.loc[data_range, 'maintext'].tolist()"
   ]
  },
  {
   "cell_type": "markdown",
   "metadata": {},
   "source": [
    "### Make a df of title and headlines"
   ]
  },
  {
   "cell_type": "code",
   "execution_count": 24,
   "metadata": {},
   "outputs": [],
   "source": [
    "# Prepare the DataFrame with image paths, titles, and paragraphs\n",
    "data_annotate = pd.DataFrame({\n",
    "    'example': title_list,        # Titles\n",
    "    'paragraph': article_list  # Additional text (paragraphs)\n",
    "})"
   ]
  },
  {
   "cell_type": "code",
   "execution_count": 30,
   "metadata": {},
   "outputs": [
    {
     "data": {
      "text/html": [
       "\n",
       "<style>\n",
       "    button[title=\"prev\"], button[title=\"next\"] \n",
       "    {\n",
       "        background-color: #fffde7 !important; /* Light yellow */\n",
       "        color: #000 !important; /* Black text */\n",
       "        border: none;\n",
       "        padding: 1px;\n",
       "        border-radius: 2px;\n",
       "        font-size: 15px;\n",
       "        cursor: pointer;\n",
       "    }\n",
       "\n",
       "    /* Hover effect for better UX */\n",
       "    button[title=\"prev\"]:hover, button[title=\"next\"]:hover {\n",
       "        background-color: #fff59d !important; /* Slightly darker yellow on hover */\n",
       "    }\n",
       "</style>\n"
      ],
      "text/plain": [
       "<IPython.core.display.HTML object>"
      ]
     },
     "metadata": {},
     "output_type": "display_data"
    }
   ],
   "source": [
    "# Inject custom CSS for styling the \"prev\" and \"next\" buttons\n",
    "display(HTML(\"\"\"\n",
    "<style>\n",
    "    button[title=\"prev\"], button[title=\"next\"] \n",
    "    {\n",
    "        background-color: #fffde7 !important; /* Light yellow */\n",
    "        color: #000 !important; /* Black text */\n",
    "        border: none;\n",
    "        padding: 1px;\n",
    "        border-radius: 2px;\n",
    "        font-size: 15px;\n",
    "        cursor: pointer;\n",
    "    }\n",
    "\n",
    "    /* Hover effect for better UX */\n",
    "    button[title=\"prev\"]:hover, button[title=\"next\"]:hover {\n",
    "        background-color: #fff59d !important; /* Slightly darker yellow on hover */\n",
    "    }\n",
    "</style>\n",
    "\"\"\"))\n",
    "\n",
    "# Updated custom_display function to handle title and paragraph\n",
    "def custom_display(html_content):\n",
    "    \"\"\"\n",
    "    Custom display function to parse and display a title and paragraph.\n",
    "    \n",
    "    Parameters:\n",
    "    - html_content: An HTML object containing the example text or path.\n",
    "    \"\"\"\n",
    "    # Extract content from the HTML object\n",
    "    html_string = str(html_content)\n",
    "\n",
    "    # Use regex to find the title from the HTML string\n",
    "    match = re.search(r'<div>(.*?)</div>', html_string)\n",
    "    if match:\n",
    "        title = match.group(1).strip()  # Get the title inside <div>\n",
    "\n",
    "        # Find the paragraph from the DataFrame (using the title as a key)\n",
    "        paragraph_text = data_annotate.loc[data_annotate['example'] == title, 'paragraph'].values[0]\n",
    "\n",
    "        # Display the title and paragraph\n",
    "        display(HTML(f\"\"\"\n",
    "        <div style=\"text-align: center; margin-bottom: 20px;\">\n",
    "            <p style=\"font-size: 16px; font-weight: bold; color: #333;\">{title}</p>\n",
    "            <p style=\"font-size: 14px; color: #555; text-align: justify; max-width: 600px; margin: 0 auto;\">{paragraph_text}</p>\n",
    "        </div>\n",
    "        \"\"\"))\n",
    "    else:\n",
    "        print(\"Invalid HTML content passed to display function\")\n"
   ]
  },
  {
   "cell_type": "markdown",
   "metadata": {},
   "source": [
    "#### Load data"
   ]
  },
  {
   "cell_type": "code",
   "execution_count": 31,
   "metadata": {},
   "outputs": [],
   "source": [
    "data_path = Path('./data/sample_no_sports.csv', index_col=[0])\n",
    "data = pd.read_csv(data_path)\n",
    "i = annotator_set - 1\n",
    "data_range = range(i*100,(i+1)*100)\n",
    "data = data.iloc[data_range]"
   ]
  },
  {
   "cell_type": "code",
   "execution_count": 32,
   "metadata": {},
   "outputs": [],
   "source": [
    "# Frame names\n",
    "frames_list = ['quality of life', 'capacity and resources', 'political',\n",
    "       'security and defense', 'policy prescription and evaluation',\n",
    "       'fairness and equality', 'none', 'health and safety',\n",
    "       'legality, constitutionality and jurisprudence', 'morality',\n",
    "       'economic', 'public opinion', 'cultural identity',\n",
    "       'external regulation and reputation', 'crime and punishment', 'None']"
   ]
  },
  {
   "cell_type": "markdown",
   "metadata": {},
   "source": [
    "## Text Frame Annotation"
   ]
  },
  {
   "cell_type": "markdown",
   "metadata": {},
   "source": [
    "Here is a brief reminder if the desription of the frames\n",
    "\n",
    "1: **Economic** - costs, benefits, or other financial implications  \n",
    "2: **Capacity and resources** - availability of physical, human, or financial resources, and capacity of current systems  \n",
    "3: **Morality** - religious or ethical implications  \n",
    "4: **Fairness and equality** - balance or distribution of rights, responsibilities, and resources  \n",
    "5: **Legality, constitutionality and jurisprudence** - rights, freedoms, and authority of individuals, corporations, and government  \n",
    "6: **Policy prescription and evaluation** - discussion of specific policies aimed at addressing problems  \n",
    "7: **Crime and punishment** - effectiveness and implications of laws and their enforcement  \n",
    "8: **Security and defense** - threats to welfare of the individual, community, or nation  \n",
    "9: **Health and safety** - health care, sanitation, public safety  \n",
    "10: **Quality of life** - threats and opportunities for the individual's wealth, happiness, and well-being  \n",
    "11: **Cultural identity** - traditions, customs, or values of a social group in relation to a policy issue  \n",
    "12: **Public opinion** - attitudes and opinions of the general public, including polling and demographics  \n",
    "13: **Political** - considerations related to politics and politicians, including lobbying, elections, and attempts to sway voters  \n",
    "14: **External regulation and reputation** - international reputation or foreign policy of the U.S  \n",
    "15: **None** - None of the above frames\n",
    "\n",
    "#### Select all frames that apply. Remember to <span style=\"background-color: #fffde7;\">press submit after each annotation</span> and in order of priority.!\n"
   ]
  },
  {
   "cell_type": "code",
   "execution_count": 33,
   "metadata": {},
   "outputs": [],
   "source": [
    "annotator_name = input(\"Please enter your name: \")"
   ]
  },
  {
   "cell_type": "code",
   "execution_count": 34,
   "metadata": {},
   "outputs": [
    {
     "data": {
      "application/vnd.jupyter.widget-view+json": {
       "model_id": "adca86fea56e47bab93669515d86f66d",
       "version_major": 2,
       "version_minor": 0
      },
      "text/plain": [
       "HTML(value='0 of 300 Examples annotated, Current Position: 0 ')"
      ]
     },
     "metadata": {},
     "output_type": "display_data"
    },
    {
     "data": {
      "application/vnd.jupyter.widget-view+json": {
       "model_id": "065e3d8aafac48f29560b952249dd4cd",
       "version_major": 2,
       "version_minor": 0
      },
      "text/plain": [
       "VBox(children=(HBox(children=(ToggleButton(value=False, description='quality of life'), ToggleButton(value=Fal…"
      ]
     },
     "metadata": {},
     "output_type": "display_data"
    },
    {
     "data": {
      "application/vnd.jupyter.widget-view+json": {
       "model_id": "4b664e4760b94653af01fe5fee83f89e",
       "version_major": 2,
       "version_minor": 0
      },
      "text/plain": [
       "Output()"
      ]
     },
     "metadata": {},
     "output_type": "display_data"
    }
   ],
   "source": [
    "text_annotations = pixt.annotate(\n",
    "    examples=data_annotate['example'].tolist(),  # Pass the image paths as a list\n",
    "    display_fn=custom_display,  # Updated display function\n",
    "    task_type='multilabel-classification',\n",
    "    options=frames_list,\n",
    ")"
   ]
  },
  {
   "cell_type": "markdown",
   "metadata": {},
   "source": [
    "**Make sure you submit the annotations!**  \n",
    "Once you're done with the annotations, run the cell below to save them into a csv"
   ]
  },
  {
   "cell_type": "code",
   "execution_count": null,
   "metadata": {},
   "outputs": [],
   "source": [
    "text_annotations['uuid'] = data['uuid'].values"
   ]
  },
  {
   "cell_type": "code",
   "execution_count": null,
   "metadata": {},
   "outputs": [],
   "source": [
    "text_annotations.to_csv(f\"./data/annotations/{annotator_name}_text_{annotator_set}.csv\")\n",
    "print(f\"File saved at: ./data/annotations/{annotator_name}_text_{annotator_set}.csv\")"
   ]
  },
  {
   "cell_type": "markdown",
   "metadata": {},
   "source": [
    "That's it, thank you for annotating!  \n",
    "Please either share the csv or push it to git :)"
   ]
  }
 ],
 "metadata": {
  "kernelspec": {
   "display_name": ".venv",
   "language": "python",
   "name": "python3"
  },
  "language_info": {
   "codemirror_mode": {
    "name": "ipython",
    "version": 3
   },
   "file_extension": ".py",
   "mimetype": "text/x-python",
   "name": "python",
   "nbconvert_exporter": "python",
   "pygments_lexer": "ipython3",
   "version": "3.11.4"
  }
 },
 "nbformat": 4,
 "nbformat_minor": 2
}
