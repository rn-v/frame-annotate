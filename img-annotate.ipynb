{
 "cells": [
  {
   "cell_type": "markdown",
   "metadata": {},
   "source": [
    "#### *Before annotation, kindly read the Annotation Guidelines present in `Framing Codebook.pdf`*"
   ]
  },
  {
   "cell_type": "code",
   "execution_count": 61,
   "metadata": {},
   "outputs": [],
   "source": [
    "# Decide set\n",
    "annotator_set = int(input(\"Which annotator set was assigned to you? [1/2/3]: \"))"
   ]
  },
  {
   "cell_type": "markdown",
   "metadata": {},
   "source": [
    "## Setup"
   ]
  },
  {
   "cell_type": "code",
   "execution_count": null,
   "metadata": {},
   "outputs": [],
   "source": [
    "# Make sure this prints your-directory/frame-annotate/.venv/bin/python\n",
    "!which python"
   ]
  },
  {
   "cell_type": "code",
   "execution_count": 63,
   "metadata": {},
   "outputs": [],
   "source": [
    "import re\n",
    "import pandas as pd\n",
    "import pigeonXT as pixt\n",
    "\n",
    "from pathlib import Path\n",
    "from IPython.display import display, Image, HTML"
   ]
  },
  {
   "cell_type": "markdown",
   "metadata": {},
   "source": [
    "#### Load data and custom functions"
   ]
  },
  {
   "cell_type": "code",
   "execution_count": 64,
   "metadata": {},
   "outputs": [],
   "source": [
    "data_path = Path('./data/sample_no_sports.csv', index_col=[0])\n",
    "data = pd.read_csv(data_path)\n",
    "i = annotator_set\n",
    "data_range = range((i-1)*300,i*300)\n",
    "data = data.iloc[data_range]"
   ]
  },
  {
   "cell_type": "code",
   "execution_count": null,
   "metadata": {},
   "outputs": [],
   "source": []
  },
  {
   "cell_type": "code",
   "execution_count": 65,
   "metadata": {},
   "outputs": [],
   "source": [
    "img_paths = ('./data/images/'+data['id']+'.jpg').tolist()"
   ]
  },
  {
   "cell_type": "code",
   "execution_count": 66,
   "metadata": {},
   "outputs": [],
   "source": [
    "# Frame names\n",
    "frames_list = ['quality of life', 'capacity and resources', 'political',\n",
    "       'security and defense', 'policy prescription and evaluation',\n",
    "       'fairness and equality', 'none', 'health and safety',\n",
    "       'legality, constitutionality and jurisprudence', 'morality',\n",
    "       'economic', 'public opinion', 'cultural identity',\n",
    "       'external regulation and reputation', 'crime and punishment']"
   ]
  },
  {
   "cell_type": "code",
   "execution_count": null,
   "metadata": {},
   "outputs": [],
   "source": [
    "def custom_display(html_content):\n",
    "    html_string = str(html_content)\n",
    "\n",
    "    match = re.search(r'<div>(.*?)</div>', html_string)\n",
    "    if match:\n",
    "        image_path = match.group(1)\n",
    "        resized_img = Image(filename=image_path, width=448, height=448)\n",
    "        display(resized_img)\n",
    "    else:\n",
    "        print(\"No image path found in HTML content\")\n",
    "        \n",
    "# Inject custom CSS for styling the \"prev\" and \"next\" buttons based on their title attribute\n",
    "display(HTML(\"\"\"\n",
    "<style>\n",
    "    button[title=\"prev\"], button[title=\"next\"] \n",
    "    {\n",
    "        background-color: #fffde7 !important; /* Light yellow */\n",
    "        color: #000 !important; /* Black text */\n",
    "        border: none;\n",
    "        padding: 1px;\n",
    "        border-radius: 2px;\n",
    "        font-size: 15px;\n",
    "        cursor: pointer;\n",
    "    }\n",
    "\n",
    "    /* Hover effect for better UX */\n",
    "    button[title=\"prev\"]:hover, button[title=\"next\"]:hover {\n",
    "        background-color: #fff59d !important; /* Slightly darker yellow on hover */\n",
    "    }\n",
    "</style>\n",
    "\"\"\"))"
   ]
  },
  {
   "cell_type": "markdown",
   "metadata": {},
   "source": [
    "## Image Frame Annotation"
   ]
  },
  {
   "cell_type": "markdown",
   "metadata": {},
   "source": [
    "Here is a brief reminder if the desription of the frames\n",
    "\n",
    "1: **Economic** - costs, benefits, or other financial implications  \n",
    "2: **Capacity and resources** - availability of physical, human, or financial resources, and capacity of current systems  \n",
    "3: **Morality** - religious or ethical implications  \n",
    "4: **Fairness and equality** - balance or distribution of rights, responsibilities, and resources  \n",
    "5: **Legality, constitutionality and jurisprudence** - rights, freedoms, and authority of individuals, corporations, and government  \n",
    "6: **Policy prescription and evaluation** - discussion of specific policies aimed at addressing problems  \n",
    "7: **Crime and punishment** - effectiveness and implications of laws and their enforcement  \n",
    "8: **Security and defense** - threats to welfare of the individual, community, or nation  \n",
    "9: **Health and safety** - health care, sanitation, public safety  \n",
    "10: **Quality of life** - threats and opportunities for the individual's wealth, happiness, and well-being  \n",
    "11: **Cultural identity** - traditions, customs, or values of a social group in relation to a policy issue  \n",
    "12: **Public opinion** - attitudes and opinions of the general public, including polling and demographics  \n",
    "13: **Political** - considerations related to politics and politicians, including lobbying, elections, and attempts to sway voters  \n",
    "14: **External regulation and reputation** - international reputation or foreign policy  \n",
    "15: **None** - None of the above frames\n",
    "\n",
    "\n",
    "#### Select all frames that apply. Remember to <span style=\"background-color: #fffde7;\">press submit after each annotation</span> and in order of priority.!\n"
   ]
  },
  {
   "cell_type": "code",
   "execution_count": 68,
   "metadata": {},
   "outputs": [],
   "source": [
    "annotator_name = input(\"Please enter your name: \")"
   ]
  },
  {
   "cell_type": "code",
   "execution_count": null,
   "metadata": {},
   "outputs": [],
   "source": [
    "image_annotations = pixt.annotate(\n",
    "    img_paths,\n",
    "    display_fn=custom_display,\n",
    "    task_type='multilabel-classification',\n",
    "    options=frames_list,\n",
    ")"
   ]
  },
  {
   "cell_type": "markdown",
   "metadata": {},
   "source": [
    "**Make sure you submit the annotations!**  \n",
    "Once you're done with the annotations, run the cell below to save them into a csv"
   ]
  },
  {
   "cell_type": "code",
   "execution_count": 70,
   "metadata": {},
   "outputs": [],
   "source": [
    "image_annotations['uuid'] = data['id'].values"
   ]
  },
  {
   "cell_type": "code",
   "execution_count": null,
   "metadata": {},
   "outputs": [],
   "source": [
    "image_annotations.to_csv(f\"./data/annotations/{annotator_name}_image_{annotator_set}.csv\")\n",
    "print(f\"File saved at: ./data/annotations/{annotator_name}_image_{annotator_set}.csv\")"
   ]
  },
  {
   "cell_type": "markdown",
   "metadata": {},
   "source": [
    "That's it, thank you for annotating!  \n",
    "Please either share the csv or push it to git :)"
   ]
  },
  {
   "cell_type": "markdown",
   "metadata": {},
   "source": []
  }
 ],
 "metadata": {
  "kernelspec": {
   "display_name": ".venv",
   "language": "python",
   "name": "python3"
  },
  "language_info": {
   "codemirror_mode": {
    "name": "ipython",
    "version": 3
   },
   "file_extension": ".py",
   "mimetype": "text/x-python",
   "name": "python",
   "nbconvert_exporter": "python",
   "pygments_lexer": "ipython3",
   "version": "3.11.4"
  }
 },
 "nbformat": 4,
 "nbformat_minor": 2
}
