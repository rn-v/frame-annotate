{
 "cells": [
  {
   "cell_type": "markdown",
   "metadata": {},
   "source": [
    "#### *Before annotation, kindly read the Annotation Guidelines present in `Framing Codebook.pdf`*"
   ]
  },
  {
   "cell_type": "code",
   "execution_count": 101,
   "metadata": {},
   "outputs": [],
   "source": [
    "# Decide set\n",
    "# annotator_set = int(input(\"Which annotator set was assigned to you? [1/2/3]: \"))\n",
    "annotator_set = 1"
   ]
  },
  {
   "cell_type": "code",
   "execution_count": 102,
   "metadata": {},
   "outputs": [
    {
     "name": "stdout",
     "output_type": "stream",
     "text": [
      "You have been set to annotator set: 1\n"
     ]
    }
   ],
   "source": [
    "print(\"You have been set to annotator set:\", annotator_set)"
   ]
  },
  {
   "cell_type": "markdown",
   "metadata": {},
   "source": [
    "## Setup"
   ]
  },
  {
   "cell_type": "code",
   "execution_count": 103,
   "metadata": {},
   "outputs": [
    {
     "name": "stdout",
     "output_type": "stream",
     "text": [
      "/Users/srishtiy/dev/frame-annotate/.venv/bin/python\n"
     ]
    }
   ],
   "source": [
    "# Make sure this prints your-directory/frame-annotate/.venv/bin/python\n",
    "!which python"
   ]
  },
  {
   "cell_type": "code",
   "execution_count": 104,
   "metadata": {},
   "outputs": [],
   "source": [
    "import re\n",
    "import pandas as pd\n",
    "import pigeonXT as pixt\n",
    "\n",
    "from pathlib import Path\n",
    "from IPython.display import display, Image, HTML"
   ]
  },
  {
   "cell_type": "markdown",
   "metadata": {},
   "source": [
    "#### Load data and custom functions"
   ]
  },
  {
   "cell_type": "code",
   "execution_count": 105,
   "metadata": {},
   "outputs": [],
   "source": [
    "data_path = Path('./data/sample_100.csv', index_col=[0])\n",
    "data = pd.read_csv(data_path)\n",
    "i = annotator_set\n",
    "# data_range = range((i-1)*300,i*300)\n",
    "data_range = data.iloc[range(len(data))]"
   ]
  },
  {
   "cell_type": "code",
   "execution_count": 106,
   "metadata": {},
   "outputs": [
    {
     "data": {
      "text/plain": [
       "Index(['topic', 'auto_topic_label', 'id', 'authors', 'date_download',\n",
       "       'date_modify', 'date_publish', 'description', 'filename', 'image_url',\n",
       "       'language', 'localpath', 'maintext', 'source_domain', 'title',\n",
       "       'title_page', 'title_rss', 'url', 'month', 'topic_label'],\n",
       "      dtype='object')"
      ]
     },
     "execution_count": 106,
     "metadata": {},
     "output_type": "execute_result"
    }
   ],
   "source": [
    "data_range.columns"
   ]
  },
  {
   "cell_type": "code",
   "execution_count": 107,
   "metadata": {},
   "outputs": [],
   "source": [
    "img_paths = ('./data/images/'+data_range['id']+'.jpg').tolist()\n",
    "title_list = data_range['title'].tolist()\n",
    "article_list = data_range['maintext'].tolist()"
   ]
  },
  {
   "cell_type": "code",
   "execution_count": 108,
   "metadata": {},
   "outputs": [],
   "source": [
    "labels = ['not-surprising', 'surprising']"
   ]
  },
  {
   "cell_type": "markdown",
   "metadata": {},
   "source": [
    "## Image Frame Annotation"
   ]
  },
  {
   "cell_type": "markdown",
   "metadata": {},
   "source": [
    "#### Select all frames that apply. Remember to <span style=\"background-color: #fffde7;\">press submit after each annotation</span> and in order of priority.!\n"
   ]
  },
  {
   "cell_type": "code",
   "execution_count": 109,
   "metadata": {},
   "outputs": [],
   "source": [
    "annotator_name = input(\"Please enter your name: \")"
   ]
  },
  {
   "cell_type": "code",
   "execution_count": 110,
   "metadata": {},
   "outputs": [],
   "source": [
    "from IPython.display import display, HTML\n",
    "import pandas as pd\n",
    "import re\n",
    "\n",
    "# Prepare the DataFrame with image paths, titles, and paragraphs\n",
    "data_annotate = pd.DataFrame({\n",
    "    'example': img_paths,  # Image paths\n",
    "    'title': title_list,        # Titles\n",
    "    'paragraph': article_list  # Additional text (paragraphs)\n",
    "})"
   ]
  },
  {
   "cell_type": "markdown",
   "metadata": {},
   "source": [
    "### Custom HTML to plot both images and headline and article"
   ]
  },
  {
   "cell_type": "code",
   "execution_count": 111,
   "metadata": {},
   "outputs": [
    {
     "data": {
      "text/html": [
       "\n",
       "<style>\n",
       "    button[title=\"prev\"], button[title=\"next\"] \n",
       "    {\n",
       "        background-color: #fffde7 !important; /* Light yellow */\n",
       "        color: #000 !important; /* Black text */\n",
       "        border: none;\n",
       "        padding: 1px;\n",
       "        border-radius: 2px;\n",
       "        font-size: 15px;\n",
       "        cursor: pointer;\n",
       "    }\n",
       "\n",
       "    /* Hover effect for better UX */\n",
       "    button[title=\"prev\"]:hover, button[title=\"next\"]:hover {\n",
       "        background-color: #fff59d !important; /* Slightly darker yellow on hover */\n",
       "    }\n",
       "</style>\n"
      ],
      "text/plain": [
       "<IPython.core.display.HTML object>"
      ]
     },
     "metadata": {},
     "output_type": "display_data"
    }
   ],
   "source": [
    "# Inject custom CSS for styling the \"prev\" and \"next\" buttons\n",
    "display(HTML(\"\"\"\n",
    "<style>\n",
    "    button[title=\"prev\"], button[title=\"next\"] \n",
    "    {\n",
    "        background-color: #fffde7 !important; /* Light yellow */\n",
    "        color: #000 !important; /* Black text */\n",
    "        border: none;\n",
    "        padding: 1px;\n",
    "        border-radius: 2px;\n",
    "        font-size: 15px;\n",
    "        cursor: pointer;\n",
    "    }\n",
    "\n",
    "    /* Hover effect for better UX */\n",
    "    button[title=\"prev\"]:hover, button[title=\"next\"]:hover {\n",
    "        background-color: #fff59d !important; /* Slightly darker yellow on hover */\n",
    "    }\n",
    "</style>\n",
    "\"\"\"))\n",
    "\n",
    "# Updated custom_display function to handle title and paragraph\n",
    "def custom_display(html_content):\n",
    "    \"\"\"\n",
    "    Custom display function to parse and display an image, title, and paragraph.\n",
    "    \n",
    "    Parameters:\n",
    "    - html_content: An HTML object containing the example text or path.\n",
    "    \"\"\"\n",
    "    # Extract content from the HTML object\n",
    "    html_string = str(html_content)\n",
    "\n",
    "    # Use regex to find the image path from the HTML string\n",
    "    match = re.search(r'<div>(.*?)</div>', html_string)\n",
    "    if match:\n",
    "        content = match.group(1)  # Get the content inside <div>\n",
    "        img_path = content.strip()  # Assuming this is the image path\n",
    "\n",
    "        # Find the title and paragraph from the DataFrame (using the path as a key)\n",
    "        title_text = data_annotate.loc[data_annotate['example'] == img_path, 'title'].values[0]\n",
    "        paragraph_text = data_annotate.loc[data_annotate['example'] == img_path, 'paragraph'].values[0]\n",
    "\n",
    "        # Display the image, title, and paragraph\n",
    "        display(HTML(f\"\"\"\n",
    "        <div style=\"text-align: center; margin-bottom: 20px;\">\n",
    "            <p style=\"font-size: 16px; font-weight: bold; color: #333;\">{title_text}</p>\n",
    "            <p style=\"font-size: 14px; color: #555; text-align: justify; max-width: 600px; margin: 0 auto;\">{paragraph_text}</p>\n",
    "            <img src=\"{img_path}\" style=\"width: 224px; height: 224px;\" />\n",
    "\n",
    "        </div>\n",
    "        \"\"\"))\n",
    "    else:\n",
    "        print(\"Invalid HTML content passed to display function\")\n"
   ]
  },
  {
   "cell_type": "markdown",
   "metadata": {},
   "source": [
    "### Annotation"
   ]
  },
  {
   "cell_type": "code",
   "execution_count": 112,
   "metadata": {},
   "outputs": [
    {
     "data": {
      "application/vnd.jupyter.widget-view+json": {
       "model_id": "0a01e554713343928da9be5eaff7a081",
       "version_major": 2,
       "version_minor": 0
      },
      "text/plain": [
       "HTML(value='0 of 100 Examples annotated, Current Position: 0 ')"
      ]
     },
     "metadata": {},
     "output_type": "display_data"
    },
    {
     "data": {
      "application/vnd.jupyter.widget-view+json": {
       "model_id": "bdc00f0272d747928d94b49103aa97c9",
       "version_major": 2,
       "version_minor": 0
      },
      "text/plain": [
       "VBox(children=(HBox(children=(ToggleButton(value=False, description='not-surprising'), ToggleButton(value=Fals…"
      ]
     },
     "metadata": {},
     "output_type": "display_data"
    },
    {
     "data": {
      "application/vnd.jupyter.widget-view+json": {
       "model_id": "d79df9579c2249418f188cfa0eecbf9f",
       "version_major": 2,
       "version_minor": 0
      },
      "text/plain": [
       "Output()"
      ]
     },
     "metadata": {},
     "output_type": "display_data"
    }
   ],
   "source": [
    "# Use pigeonXT.annotate with updated display function\n",
    "image_annotations = pixt.annotate(\n",
    "    examples=data_annotate['example'].tolist(),  # Pass the image paths as a list\n",
    "    display_fn=custom_display,  # Updated display function\n",
    "    task_type='multilabel-classification',\n",
    "    options=labels,\n",
    ")"
   ]
  },
  {
   "cell_type": "markdown",
   "metadata": {},
   "source": [
    "**Make sure you submit the annotations!**  \n",
    "Once you're done with the annotations, run the cell below to save them into a csv"
   ]
  },
  {
   "cell_type": "code",
   "execution_count": 114,
   "metadata": {},
   "outputs": [],
   "source": [
    "image_annotations['uuid'] = data_range['id'].values"
   ]
  },
  {
   "cell_type": "code",
   "execution_count": 115,
   "metadata": {},
   "outputs": [
    {
     "name": "stdout",
     "output_type": "stream",
     "text": [
      "File saved at: ./data/annotations/Srish_image_1.csv\n"
     ]
    }
   ],
   "source": [
    "image_annotations.to_csv(f\"./data/annotations/{annotator_name}_image_{annotator_set}.csv\")\n",
    "print(f\"File saved at: ./data/annotations/{annotator_name}_image_{annotator_set}.csv\")"
   ]
  },
  {
   "cell_type": "markdown",
   "metadata": {},
   "source": [
    "That's it, thank you for annotating!  \n",
    "Please either share the csv or push it to git :)"
   ]
  },
  {
   "cell_type": "markdown",
   "metadata": {},
   "source": []
  }
 ],
 "metadata": {
  "kernelspec": {
   "display_name": ".venv",
   "language": "python",
   "name": "python3"
  },
  "language_info": {
   "codemirror_mode": {
    "name": "ipython",
    "version": 3
   },
   "file_extension": ".py",
   "mimetype": "text/x-python",
   "name": "python",
   "nbconvert_exporter": "python",
   "pygments_lexer": "ipython3",
   "version": "3.11.4"
  }
 },
 "nbformat": 4,
 "nbformat_minor": 2
}
